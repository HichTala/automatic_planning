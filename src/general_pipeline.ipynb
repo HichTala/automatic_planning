{
 "cells": [
  {
   "cell_type": "code",
   "id": "initial_id",
   "metadata": {
    "collapsed": true,
    "ExecuteTime": {
     "end_time": "2025-09-22T16:40:23.238101Z",
     "start_time": "2025-09-22T16:40:21.656788Z"
    }
   },
   "source": [
    "from IPython.testing.tools import full_path\n",
    "from pdf2image import convert_from_path\n",
    "# import pytesseract\n",
    "from PIL import Image\n",
    "import camelot\n",
    "import fitz  # PyMuPDF\n",
    "import cv2\n",
    "import numpy as np\n",
    "import locale\n",
    "from datetime import datetime\n",
    "import os\n",
    "from reportlab.lib.pagesizes import A4\n",
    "from reportlab.platypus import SimpleDocTemplate, Table, TableStyle, Paragraph, Spacer, PageBreak\n",
    "from reportlab.lib.styles import getSampleStyleSheet\n",
    "from reportlab.lib import colors"
   ],
   "outputs": [],
   "execution_count": 1
  },
  {
   "metadata": {
    "ExecuteTime": {
     "end_time": "2025-09-17T08:51:26.583809Z",
     "start_time": "2025-09-17T08:51:21.782251Z"
    }
   },
   "cell_type": "code",
   "source": [
    "pages = convert_from_path(\"../plannings_mensuels/planning.pdf\", dpi=300)\n",
    "for i, page in enumerate(pages):\n",
    "    page.save(f\"pages/page_{i}.png\", \"PNG\")"
   ],
   "id": "7bf51a94d9d90ea3",
   "outputs": [],
   "execution_count": 2
  },
  {
   "metadata": {
    "ExecuteTime": {
     "end_time": "2025-09-17T12:47:08.536521Z",
     "start_time": "2025-09-17T12:47:08.469457Z"
    }
   },
   "cell_type": "code",
   "source": [
    "text = pytesseract.image_to_string(Image.open(\"crop_cell/cell_5.png\"), lang=\"fra\")  # use \"eng\" if English\n",
    "print(text)"
   ],
   "id": "40c39b639d4a8b84",
   "outputs": [
    {
     "name": "stdout",
     "output_type": "stream",
     "text": [
      "\f\n"
     ]
    }
   ],
   "execution_count": 95
  },
  {
   "metadata": {
    "ExecuteTime": {
     "end_time": "2025-09-17T10:20:15.126040Z",
     "start_time": "2025-09-17T10:20:15.025483Z"
    }
   },
   "cell_type": "code",
   "source": [
    "data = pytesseract.image_to_data(Image.open(\"extracted_images/page1_Image6.jpeg\"), lang=\"fra\",\n",
    "                                 output_type=pytesseract.Output.DATAFRAME)\n",
    "print(data.head())\n"
   ],
   "id": "616b7c55241ce4e0",
   "outputs": [
    {
     "name": "stdout",
     "output_type": "stream",
     "text": [
      "   level  page_num  block_num  par_num  line_num  word_num  left  top  width  \\\n",
      "0      1         1          0        0         0         0     0    0    812   \n",
      "1      2         1          1        0         0         0    25    0      1   \n",
      "2      3         1          1        1         0         0    25    0      1   \n",
      "3      4         1          1        1         1         0    25    0      1   \n",
      "4      5         1          1        1         1         1    25    0      1   \n",
      "\n",
      "   height  conf text  \n",
      "0      32    -1  NaN  \n",
      "1      32    -1  NaN  \n",
      "2      32    -1  NaN  \n",
      "3      32    -1  NaN  \n",
      "4      32    95       \n"
     ]
    }
   ],
   "execution_count": 64
  },
  {
   "metadata": {
    "ExecuteTime": {
     "end_time": "2025-09-18T18:11:51.560122Z",
     "start_time": "2025-09-18T18:11:45.247304Z"
    }
   },
   "cell_type": "code",
   "source": [
    "tables = camelot.read_pdf('../plannings_mensuels/planning.pdf', pages='all', line_scale=40)\n",
    "tables"
   ],
   "id": "4646d020c57d276d",
   "outputs": [
    {
     "data": {
      "text/plain": [
       "<TableList n=10>"
      ]
     },
     "execution_count": 3,
     "metadata": {},
     "output_type": "execute_result"
    }
   ],
   "execution_count": 3
  },
  {
   "metadata": {
    "ExecuteTime": {
     "end_time": "2025-09-18T18:13:42.721994Z",
     "start_time": "2025-09-18T18:13:42.686183Z"
    }
   },
   "cell_type": "code",
   "source": "tables[0].df",
   "id": "4d96d23bf1d173b7",
   "outputs": [
    {
     "data": {
      "text/plain": [
       "                                                   0  1  2  3  4  5  6  7  8   \\\n",
       "0   ASSOCIATION LES JOURS HEUREUX\\n(Réel)\\nédition...                           \n",
       "1                                            salariés                           \n",
       "2                  CONSTANT TCHAMDA MARIE\\n0710000188                           \n",
       "3              MBALAZI TAMPO Jacqueline\\nAMP\\n18MBA03                           \n",
       "4                        MBAYA Patricia\\nAMP\\n18MBA02                           \n",
       "5              MIMOUN Chenounia, Mina\\nADAMP\\n18MIM01                           \n",
       "6                        N'DZABA Destinée\\n1810000356                           \n",
       "7                 NDOUMBE NDEDI Harmelle\\nAS\\n18NDO01                           \n",
       "8                       PROMENEUR Chantal\\n1810000538                           \n",
       "9                         SAKOA Gossi\\nAS\\n1810000502                           \n",
       "10                                                                              \n",
       "11                                                                              \n",
       "\n",
       "   9   ... 23 24 25 26 27 28 29 30 31 32  \n",
       "0      ...                                \n",
       "1      ...                                \n",
       "2      ...                                \n",
       "3      ...                                \n",
       "4      ...                                \n",
       "5      ...                                \n",
       "6      ...                                \n",
       "7      ...                                \n",
       "8      ...                                \n",
       "9      ...                                \n",
       "10     ...                                \n",
       "11     ...                                \n",
       "\n",
       "[12 rows x 33 columns]"
      ],
      "text/html": [
       "<div>\n",
       "<style scoped>\n",
       "    .dataframe tbody tr th:only-of-type {\n",
       "        vertical-align: middle;\n",
       "    }\n",
       "\n",
       "    .dataframe tbody tr th {\n",
       "        vertical-align: top;\n",
       "    }\n",
       "\n",
       "    .dataframe thead th {\n",
       "        text-align: right;\n",
       "    }\n",
       "</style>\n",
       "<table border=\"1\" class=\"dataframe\">\n",
       "  <thead>\n",
       "    <tr style=\"text-align: right;\">\n",
       "      <th></th>\n",
       "      <th>0</th>\n",
       "      <th>1</th>\n",
       "      <th>2</th>\n",
       "      <th>3</th>\n",
       "      <th>4</th>\n",
       "      <th>5</th>\n",
       "      <th>6</th>\n",
       "      <th>7</th>\n",
       "      <th>8</th>\n",
       "      <th>9</th>\n",
       "      <th>...</th>\n",
       "      <th>23</th>\n",
       "      <th>24</th>\n",
       "      <th>25</th>\n",
       "      <th>26</th>\n",
       "      <th>27</th>\n",
       "      <th>28</th>\n",
       "      <th>29</th>\n",
       "      <th>30</th>\n",
       "      <th>31</th>\n",
       "      <th>32</th>\n",
       "    </tr>\n",
       "  </thead>\n",
       "  <tbody>\n",
       "    <tr>\n",
       "      <th>0</th>\n",
       "      <td>ASSOCIATION LES JOURS HEUREUX\\n(Réel)\\nédition...</td>\n",
       "      <td></td>\n",
       "      <td></td>\n",
       "      <td></td>\n",
       "      <td></td>\n",
       "      <td></td>\n",
       "      <td></td>\n",
       "      <td></td>\n",
       "      <td></td>\n",
       "      <td></td>\n",
       "      <td>...</td>\n",
       "      <td></td>\n",
       "      <td></td>\n",
       "      <td></td>\n",
       "      <td></td>\n",
       "      <td></td>\n",
       "      <td></td>\n",
       "      <td></td>\n",
       "      <td></td>\n",
       "      <td></td>\n",
       "      <td></td>\n",
       "    </tr>\n",
       "    <tr>\n",
       "      <th>1</th>\n",
       "      <td>salariés</td>\n",
       "      <td></td>\n",
       "      <td></td>\n",
       "      <td></td>\n",
       "      <td></td>\n",
       "      <td></td>\n",
       "      <td></td>\n",
       "      <td></td>\n",
       "      <td></td>\n",
       "      <td></td>\n",
       "      <td>...</td>\n",
       "      <td></td>\n",
       "      <td></td>\n",
       "      <td></td>\n",
       "      <td></td>\n",
       "      <td></td>\n",
       "      <td></td>\n",
       "      <td></td>\n",
       "      <td></td>\n",
       "      <td></td>\n",
       "      <td></td>\n",
       "    </tr>\n",
       "    <tr>\n",
       "      <th>2</th>\n",
       "      <td>CONSTANT TCHAMDA MARIE\\n0710000188</td>\n",
       "      <td></td>\n",
       "      <td></td>\n",
       "      <td></td>\n",
       "      <td></td>\n",
       "      <td></td>\n",
       "      <td></td>\n",
       "      <td></td>\n",
       "      <td></td>\n",
       "      <td></td>\n",
       "      <td>...</td>\n",
       "      <td></td>\n",
       "      <td></td>\n",
       "      <td></td>\n",
       "      <td></td>\n",
       "      <td></td>\n",
       "      <td></td>\n",
       "      <td></td>\n",
       "      <td></td>\n",
       "      <td></td>\n",
       "      <td></td>\n",
       "    </tr>\n",
       "    <tr>\n",
       "      <th>3</th>\n",
       "      <td>MBALAZI TAMPO Jacqueline\\nAMP\\n18MBA03</td>\n",
       "      <td></td>\n",
       "      <td></td>\n",
       "      <td></td>\n",
       "      <td></td>\n",
       "      <td></td>\n",
       "      <td></td>\n",
       "      <td></td>\n",
       "      <td></td>\n",
       "      <td></td>\n",
       "      <td>...</td>\n",
       "      <td></td>\n",
       "      <td></td>\n",
       "      <td></td>\n",
       "      <td></td>\n",
       "      <td></td>\n",
       "      <td></td>\n",
       "      <td></td>\n",
       "      <td></td>\n",
       "      <td></td>\n",
       "      <td></td>\n",
       "    </tr>\n",
       "    <tr>\n",
       "      <th>4</th>\n",
       "      <td>MBAYA Patricia\\nAMP\\n18MBA02</td>\n",
       "      <td></td>\n",
       "      <td></td>\n",
       "      <td></td>\n",
       "      <td></td>\n",
       "      <td></td>\n",
       "      <td></td>\n",
       "      <td></td>\n",
       "      <td></td>\n",
       "      <td></td>\n",
       "      <td>...</td>\n",
       "      <td></td>\n",
       "      <td></td>\n",
       "      <td></td>\n",
       "      <td></td>\n",
       "      <td></td>\n",
       "      <td></td>\n",
       "      <td></td>\n",
       "      <td></td>\n",
       "      <td></td>\n",
       "      <td></td>\n",
       "    </tr>\n",
       "    <tr>\n",
       "      <th>5</th>\n",
       "      <td>MIMOUN Chenounia, Mina\\nADAMP\\n18MIM01</td>\n",
       "      <td></td>\n",
       "      <td></td>\n",
       "      <td></td>\n",
       "      <td></td>\n",
       "      <td></td>\n",
       "      <td></td>\n",
       "      <td></td>\n",
       "      <td></td>\n",
       "      <td></td>\n",
       "      <td>...</td>\n",
       "      <td></td>\n",
       "      <td></td>\n",
       "      <td></td>\n",
       "      <td></td>\n",
       "      <td></td>\n",
       "      <td></td>\n",
       "      <td></td>\n",
       "      <td></td>\n",
       "      <td></td>\n",
       "      <td></td>\n",
       "    </tr>\n",
       "    <tr>\n",
       "      <th>6</th>\n",
       "      <td>N'DZABA Destinée\\n1810000356</td>\n",
       "      <td></td>\n",
       "      <td></td>\n",
       "      <td></td>\n",
       "      <td></td>\n",
       "      <td></td>\n",
       "      <td></td>\n",
       "      <td></td>\n",
       "      <td></td>\n",
       "      <td></td>\n",
       "      <td>...</td>\n",
       "      <td></td>\n",
       "      <td></td>\n",
       "      <td></td>\n",
       "      <td></td>\n",
       "      <td></td>\n",
       "      <td></td>\n",
       "      <td></td>\n",
       "      <td></td>\n",
       "      <td></td>\n",
       "      <td></td>\n",
       "    </tr>\n",
       "    <tr>\n",
       "      <th>7</th>\n",
       "      <td>NDOUMBE NDEDI Harmelle\\nAS\\n18NDO01</td>\n",
       "      <td></td>\n",
       "      <td></td>\n",
       "      <td></td>\n",
       "      <td></td>\n",
       "      <td></td>\n",
       "      <td></td>\n",
       "      <td></td>\n",
       "      <td></td>\n",
       "      <td></td>\n",
       "      <td>...</td>\n",
       "      <td></td>\n",
       "      <td></td>\n",
       "      <td></td>\n",
       "      <td></td>\n",
       "      <td></td>\n",
       "      <td></td>\n",
       "      <td></td>\n",
       "      <td></td>\n",
       "      <td></td>\n",
       "      <td></td>\n",
       "    </tr>\n",
       "    <tr>\n",
       "      <th>8</th>\n",
       "      <td>PROMENEUR Chantal\\n1810000538</td>\n",
       "      <td></td>\n",
       "      <td></td>\n",
       "      <td></td>\n",
       "      <td></td>\n",
       "      <td></td>\n",
       "      <td></td>\n",
       "      <td></td>\n",
       "      <td></td>\n",
       "      <td></td>\n",
       "      <td>...</td>\n",
       "      <td></td>\n",
       "      <td></td>\n",
       "      <td></td>\n",
       "      <td></td>\n",
       "      <td></td>\n",
       "      <td></td>\n",
       "      <td></td>\n",
       "      <td></td>\n",
       "      <td></td>\n",
       "      <td></td>\n",
       "    </tr>\n",
       "    <tr>\n",
       "      <th>9</th>\n",
       "      <td>SAKOA Gossi\\nAS\\n1810000502</td>\n",
       "      <td></td>\n",
       "      <td></td>\n",
       "      <td></td>\n",
       "      <td></td>\n",
       "      <td></td>\n",
       "      <td></td>\n",
       "      <td></td>\n",
       "      <td></td>\n",
       "      <td></td>\n",
       "      <td>...</td>\n",
       "      <td></td>\n",
       "      <td></td>\n",
       "      <td></td>\n",
       "      <td></td>\n",
       "      <td></td>\n",
       "      <td></td>\n",
       "      <td></td>\n",
       "      <td></td>\n",
       "      <td></td>\n",
       "      <td></td>\n",
       "    </tr>\n",
       "    <tr>\n",
       "      <th>10</th>\n",
       "      <td></td>\n",
       "      <td></td>\n",
       "      <td></td>\n",
       "      <td></td>\n",
       "      <td></td>\n",
       "      <td></td>\n",
       "      <td></td>\n",
       "      <td></td>\n",
       "      <td></td>\n",
       "      <td></td>\n",
       "      <td>...</td>\n",
       "      <td></td>\n",
       "      <td></td>\n",
       "      <td></td>\n",
       "      <td></td>\n",
       "      <td></td>\n",
       "      <td></td>\n",
       "      <td></td>\n",
       "      <td></td>\n",
       "      <td></td>\n",
       "      <td></td>\n",
       "    </tr>\n",
       "    <tr>\n",
       "      <th>11</th>\n",
       "      <td></td>\n",
       "      <td></td>\n",
       "      <td></td>\n",
       "      <td></td>\n",
       "      <td></td>\n",
       "      <td></td>\n",
       "      <td></td>\n",
       "      <td></td>\n",
       "      <td></td>\n",
       "      <td></td>\n",
       "      <td>...</td>\n",
       "      <td></td>\n",
       "      <td></td>\n",
       "      <td></td>\n",
       "      <td></td>\n",
       "      <td></td>\n",
       "      <td></td>\n",
       "      <td></td>\n",
       "      <td></td>\n",
       "      <td></td>\n",
       "      <td></td>\n",
       "    </tr>\n",
       "  </tbody>\n",
       "</table>\n",
       "<p>12 rows × 33 columns</p>\n",
       "</div>"
      ]
     },
     "execution_count": 4,
     "metadata": {},
     "output_type": "execute_result"
    }
   ],
   "execution_count": 4
  },
  {
   "metadata": {
    "ExecuteTime": {
     "end_time": "2025-09-18T09:25:57.387987Z",
     "start_time": "2025-09-18T09:25:56.491546Z"
    }
   },
   "cell_type": "code",
   "source": "camelot.plot(tables[0], kind='grid').show()",
   "id": "322f5e9dbe17e9f6",
   "outputs": [
    {
     "name": "stderr",
     "output_type": "stream",
     "text": [
      "/tmp/ipykernel_25264/3717045681.py:1: UserWarning: FigureCanvasAgg is non-interactive, and thus cannot be shown\n",
      "  camelot.plot(tables[0], kind='grid').show()\n"
     ]
    },
    {
     "data": {
      "text/plain": [
       "<Figure size 640x480 with 1 Axes>"
      ],
      "image/png": "[encoded data removed]"
     },
     "metadata": {},
     "output_type": "display_data",
     "jetTransient": {
      "display_id": null
     }
    }
   ],
   "execution_count": 7
  },
  {
   "metadata": {
    "ExecuteTime": {
     "end_time": "2025-09-17T10:17:44.360214Z",
     "start_time": "2025-09-17T10:17:44.354975Z"
    }
   },
   "cell_type": "code",
   "source": [
    "tables = camelot.read_pdf('name.pdf', line_scale=40)\n",
    "tables"
   ],
   "id": "5fc2e80ad29296b6",
   "outputs": [
    {
     "name": "stderr",
     "output_type": "stream",
     "text": [
      "/home/hicham/miniconda3/envs/phd/lib/python3.11/site-packages/camelot/parsers/base.py:124: UserWarning: page-1 is image-based, camelot only works on text-based pages.\n",
      "  warnings.warn(\n"
     ]
    },
    {
     "data": {
      "text/plain": [
       "<TableList n=0>"
      ]
     },
     "execution_count": 59,
     "metadata": {},
     "output_type": "execute_result"
    }
   ],
   "execution_count": 59
  },
  {
   "metadata": {
    "ExecuteTime": {
     "end_time": "2025-09-18T09:27:20.120640Z",
     "start_time": "2025-09-18T09:27:20.100348Z"
    }
   },
   "cell_type": "code",
   "source": [
    "img = cv2.imread(\"crop_cell/cell_6.png\")\n",
    "\n",
    "# Convert to grayscale\n",
    "gray = cv2.cvtColor(img, cv2.COLOR_BGR2GRAY)\n",
    "\n",
    "# Binarize (thresholding)\n",
    "_, thresh = cv2.threshold(gray, 130, 255, cv2.THRESH_BINARY)\n",
    "\n",
    "# Save preprocessed image\n",
    "cv2.imwrite(\"clean_cell.png\", thresh)\n",
    "\n",
    "# OCR\n",
    "text = pytesseract.image_to_string(Image.open(\"clean_cell.png\"), lang=\"fra\")\n",
    "text\n"
   ],
   "id": "5977237ed3f899df",
   "outputs": [
    {
     "name": "stderr",
     "output_type": "stream",
     "text": [
      "[ WARN:0@912.581] global loadsave.cpp:268 findDecoder imread_('crop_cell/cell_6.png'): can't open/read file: check file path/integrity\n"
     ]
    },
    {
     "ename": "error",
     "evalue": "OpenCV(4.11.0) /io/opencv/modules/imgproc/src/color.cpp:199: error: (-215:Assertion failed) !_src.empty() in function 'cvtColor'\n",
     "output_type": "error",
     "traceback": [
      "\u001B[0;31m---------------------------------------------------------------------------\u001B[0m",
      "\u001B[0;31merror\u001B[0m                                     Traceback (most recent call last)",
      "Cell \u001B[0;32mIn[10], line 4\u001B[0m\n\u001B[1;32m      1\u001B[0m img \u001B[38;5;241m=\u001B[39m cv2\u001B[38;5;241m.\u001B[39mimread(\u001B[38;5;124m\"\u001B[39m\u001B[38;5;124mcrop_cell/cell_6.png\u001B[39m\u001B[38;5;124m\"\u001B[39m)\n\u001B[1;32m      3\u001B[0m \u001B[38;5;66;03m# Convert to grayscale\u001B[39;00m\n\u001B[0;32m----> 4\u001B[0m gray \u001B[38;5;241m=\u001B[39m cv2\u001B[38;5;241m.\u001B[39mcvtColor(img, cv2\u001B[38;5;241m.\u001B[39mCOLOR_BGR2GRAY)\n\u001B[1;32m      6\u001B[0m \u001B[38;5;66;03m# Binarize (thresholding)\u001B[39;00m\n\u001B[1;32m      7\u001B[0m _, thresh \u001B[38;5;241m=\u001B[39m cv2\u001B[38;5;241m.\u001B[39mthreshold(gray, \u001B[38;5;241m130\u001B[39m, \u001B[38;5;241m255\u001B[39m, cv2\u001B[38;5;241m.\u001B[39mTHRESH_BINARY)\n",
      "\u001B[0;31merror\u001B[0m: OpenCV(4.11.0) /io/opencv/modules/imgproc/src/color.cpp:199: error: (-215:Assertion failed) !_src.empty() in function 'cvtColor'\n"
     ]
    }
   ],
   "execution_count": 10
  },
  {
   "metadata": {},
   "cell_type": "code",
   "source": [
    "cv2.imshow(\"Gray Inverted\", thresh)\n",
    "cv2.waitKey(0)\n",
    "cv2.destroyAllWindows()"
   ],
   "id": "f77384edc02f4480",
   "outputs": [],
   "execution_count": null
  },
  {
   "metadata": {
    "ExecuteTime": {
     "end_time": "2025-09-18T09:30:16.092164Z",
     "start_time": "2025-09-18T09:30:16.087578Z"
    }
   },
   "cell_type": "code",
   "source": [
    "img = cv2.imread(\"extracted_images/page1_Image6.jpeg\")\n",
    "gray = cv2.cvtColor(img, cv2.COLOR_BGR2GRAY)"
   ],
   "id": "503fac8ff2a37f8f",
   "outputs": [],
   "execution_count": 17
  },
  {
   "metadata": {
    "ExecuteTime": {
     "end_time": "2025-09-18T09:30:17.783952Z",
     "start_time": "2025-09-18T09:30:17.779279Z"
    }
   },
   "cell_type": "code",
   "source": "gray_inv = cv2.bitwise_not(gray)",
   "id": "55d63d2906dadf78",
   "outputs": [],
   "execution_count": 18
  },
  {
   "metadata": {
    "ExecuteTime": {
     "end_time": "2025-09-18T09:30:18.241693Z",
     "start_time": "2025-09-18T09:30:18.236586Z"
    }
   },
   "cell_type": "code",
   "source": [
    "kernel = cv2.getStructuringElement(cv2.MORPH_RECT, (1, 50))\n",
    "vertical_lines = cv2.morphologyEx(gray_inv, cv2.MORPH_OPEN, kernel, iterations=2)\n",
    "\n",
    "_, thresh = cv2.threshold(vertical_lines, 100, 255, cv2.THRESH_BINARY)"
   ],
   "id": "87b60ce529fa4634",
   "outputs": [],
   "execution_count": 19
  },
  {
   "metadata": {},
   "cell_type": "code",
   "source": [
    "cv2.imshow(\"Gray Inverted\", gray)\n",
    "cv2.waitKey(0)\n",
    "cv2.destroyAllWindows()"
   ],
   "id": "21675b6ee859bb24",
   "outputs": [],
   "execution_count": null
  },
  {
   "metadata": {
    "ExecuteTime": {
     "end_time": "2025-09-18T09:30:20.480442Z",
     "start_time": "2025-09-18T09:30:20.473449Z"
    }
   },
   "cell_type": "code",
   "source": [
    "x_coords, = np.where(thresh[0] == 255)\n",
    "x_coords = np.array(\n",
    "    [x_coords[i] for i in range(len(x_coords) - 1) if x_coords[i] + 1 != x_coords[i + 1]] + [x_coords[-1]])\n",
    "x_coords"
   ],
   "id": "6cf684b11279d945",
   "outputs": [
    {
     "data": {
      "text/plain": [
       "array([  0,  25,  50,  75, 100, 125, 150, 175, 200, 225, 250, 275, 300,\n",
       "       325, 350, 375, 400, 425, 450, 475, 500, 525, 550, 575, 600, 625,\n",
       "       650, 675, 700, 725, 750, 775, 811])"
      ]
     },
     "execution_count": 20,
     "metadata": {},
     "output_type": "execute_result"
    }
   ],
   "execution_count": 20
  },
  {
   "metadata": {
    "ExecuteTime": {
     "end_time": "2025-09-18T09:30:21.114222Z",
     "start_time": "2025-09-18T09:30:21.105412Z"
    }
   },
   "cell_type": "code",
   "source": [
    "cells = []\n",
    "for i in range(len(x_coords) - 1):\n",
    "    x1, x2 = x_coords[i], x_coords[i + 1]\n",
    "    cell = img[:, x1:x2]  # crop full height between two lines\n",
    "    cells.append(cell)\n",
    "    cv2.imwrite(f\"crop_cell/cell_{i}.png\", cell)"
   ],
   "id": "5af3c1cfeb728769",
   "outputs": [],
   "execution_count": 21
  },
  {
   "metadata": {
    "ExecuteTime": {
     "end_time": "2025-09-18T18:14:51.108217Z",
     "start_time": "2025-09-18T18:14:51.102917Z"
    }
   },
   "cell_type": "code",
   "source": [
    "title = tables[0].df[0][0]\n",
    "title"
   ],
   "id": "b563c6e928074049",
   "outputs": [
    {
     "data": {
      "text/plain": [
       "'ASSOCIATION LES JOURS HEUREUX\\n(Réel)\\nédition planning\\nSite\\n18 - MAS JEAN-PAUL BOUDET\\n18\\nEquipe\\ndu 01/10/2025 au 31/10/2025\\nARO - Unité de vie Aromates'"
      ]
     },
     "execution_count": 11,
     "metadata": {},
     "output_type": "execute_result"
    }
   ],
   "execution_count": 11
  },
  {
   "metadata": {
    "ExecuteTime": {
     "end_time": "2025-09-18T18:15:05.660523Z",
     "start_time": "2025-09-18T18:15:05.654010Z"
    }
   },
   "cell_type": "code",
   "source": "title.split('\\n')",
   "id": "a4d9b1db5ea75349",
   "outputs": [
    {
     "data": {
      "text/plain": [
       "['ASSOCIATION LES JOURS HEUREUX',\n",
       " '(Réel)',\n",
       " 'édition planning',\n",
       " 'Site',\n",
       " '18 - MAS JEAN-PAUL BOUDET',\n",
       " '18',\n",
       " 'Equipe',\n",
       " 'du 01/10/2025 au 31/10/2025',\n",
       " 'ARO - Unité de vie Aromates']"
      ]
     },
     "execution_count": 12,
     "metadata": {},
     "output_type": "execute_result"
    }
   ],
   "execution_count": 12
  },
  {
   "metadata": {
    "ExecuteTime": {
     "end_time": "2025-09-18T18:20:30.968304Z",
     "start_time": "2025-09-18T18:20:30.961838Z"
    }
   },
   "cell_type": "code",
   "source": [
    "date = title.split('\\n')[-2]\n",
    "date = date.split(' ')[1]\n",
    "date"
   ],
   "id": "8faf90271ab04005",
   "outputs": [
    {
     "data": {
      "text/plain": [
       "'01/10/2025'"
      ]
     },
     "execution_count": 19,
     "metadata": {},
     "output_type": "execute_result"
    }
   ],
   "execution_count": 19
  },
  {
   "metadata": {
    "ExecuteTime": {
     "end_time": "2025-09-18T18:19:27.352052Z",
     "start_time": "2025-09-18T18:19:27.336729Z"
    }
   },
   "cell_type": "code",
   "source": "locale.setlocale(locale.LC_TIME, \"fr_FR.UTF-8\")",
   "id": "d8d78e26ff3443f9",
   "outputs": [
    {
     "data": {
      "text/plain": [
       "'fr_FR.UTF-8'"
      ]
     },
     "execution_count": 15,
     "metadata": {},
     "output_type": "execute_result"
    }
   ],
   "execution_count": 15
  },
  {
   "metadata": {
    "ExecuteTime": {
     "end_time": "2025-09-18T18:21:44.693573Z",
     "start_time": "2025-09-18T18:21:44.687660Z"
    }
   },
   "cell_type": "code",
   "source": [
    "date = datetime(int(date.split('/')[-1]), int(date.split('/')[1]), int(date.split('/')[0]))\n",
    "day_name = date.strftime(\"%A\")\n",
    "day_name"
   ],
   "id": "65c66471079de47c",
   "outputs": [
    {
     "data": {
      "text/plain": [
       "'mercredi'"
      ]
     },
     "execution_count": 22,
     "metadata": {},
     "output_type": "execute_result"
    }
   ],
   "execution_count": 22
  },
  {
   "metadata": {
    "ExecuteTime": {
     "end_time": "2025-09-22T11:05:43.324322Z",
     "start_time": "2025-09-22T11:05:43.320304Z"
    }
   },
   "cell_type": "code",
   "source": [
    "def is_right_color(cell_image_path, reference_color):\n",
    "    cell_image = cv2.imread(cell_image_path)\n",
    "    distance = np.linalg.norm(cell_image - reference_color, axis=2)\n",
    "    mask = np.uint8((distance < 50) * 255)\n",
    "\n",
    "    # return mask\n",
    "    return 25000 < mask.sum()"
   ],
   "id": "8c267f7565b8c529",
   "outputs": [],
   "execution_count": 120
  },
  {
   "metadata": {
    "ExecuteTime": {
     "end_time": "2025-09-22T10:59:22.656265Z",
     "start_time": "2025-09-22T10:59:22.650390Z"
    }
   },
   "cell_type": "code",
   "source": [
    "a1 = np.array([180, 120, 10])\n",
    "a7 = np.array([130, 130, 250])\n",
    "m1 = np.array([140, 255, 255])\n",
    "str = np.array([0, 130, 250])\n",
    "b7 = np.array([120, 120, 70])\n",
    "b8 = np.array([140, 255, 50])\n",
    "b9 = np.array([0, 130, 250])\n",
    "ni = np.array([120, 20, 200])\n",
    "nu = np.array([180, 120, 130])\n",
    "mask = is_right_color(\"crop_cell/page5_cell_7_0.png\", nu)"
   ],
   "id": "a99a65a7167b1b17",
   "outputs": [],
   "execution_count": 116
  },
  {
   "metadata": {
    "ExecuteTime": {
     "end_time": "2025-09-22T10:59:27.615436Z",
     "start_time": "2025-09-22T10:59:27.609821Z"
    }
   },
   "cell_type": "code",
   "source": "mask.sum()",
   "id": "3bb4041e8844d81",
   "outputs": [
    {
     "data": {
      "text/plain": [
       "38505"
      ]
     },
     "execution_count": 118,
     "metadata": {},
     "output_type": "execute_result"
    }
   ],
   "execution_count": 118
  },
  {
   "metadata": {},
   "cell_type": "code",
   "outputs": [],
   "execution_count": null,
   "source": [
    "a1 = np.array([180, 120, 10])\n",
    "a7 = np.array([130, 130, 250])\n",
    "m1 = np.array([140, 255, 255])\n",
    "str = np.array([0, 130, 250])\n",
    "b7 = np.array([120, 120, 70])\n",
    "b8 = np.array([140, 255, 50])\n",
    "b9 = np.array([0, 130, 250])\n",
    "ni = np.array([120, 20, 200])\n",
    "nu = np.array([180, 120, 130])\n",
    "mask = is_right_color(\"crop_cell/page5_cell_7_0.png\", nu)"
   ],
   "id": "5fc74d1b98582de6"
  },
  {
   "metadata": {
    "ExecuteTime": {
     "end_time": "2025-09-22T10:59:26.407198Z",
     "start_time": "2025-09-22T10:59:25.000147Z"
    }
   },
   "cell_type": "code",
   "outputs": [],
   "execution_count": 117,
   "source": [
    "img = cv2.imread(\"crop_cell/page5_cell_7_0.png\")\n",
    "cv2.imshow(\"\", mask)\n",
    "cv2.waitKey(0)\n",
    "cv2.destroyAllWindows()"
   ],
   "id": "ed958b6848492149"
  },
  {
   "metadata": {
    "ExecuteTime": {
     "end_time": "2025-09-18T19:19:12.296877Z",
     "start_time": "2025-09-18T19:19:12.290884Z"
    }
   },
   "cell_type": "code",
   "outputs": [
    {
     "data": {
      "text/plain": [
       "page 0 of planning.pdf"
      ]
     },
     "execution_count": 252,
     "metadata": {},
     "output_type": "execute_result"
    }
   ],
   "execution_count": 252,
   "source": [
    "pdf_file = '../plannings_mensuels/planning.pdf'\n",
    "doc = fitz.open(pdf_file)\n",
    "doc[0]"
   ],
   "id": "5626277475dbd2b8"
  },
  {
   "metadata": {
    "ExecuteTime": {
     "end_time": "2025-09-22T11:05:45.632883Z",
     "start_time": "2025-09-22T11:05:45.627976Z"
    }
   },
   "cell_type": "code",
   "source": [
    "def extract_images(pdf_file):\n",
    "    doc = fitz.open(pdf_file)\n",
    "\n",
    "    for i, page in enumerate(doc):\n",
    "        for img_index, img in enumerate(page.get_images(full=True)):\n",
    "            xref = img[0]\n",
    "            name = img[7]\n",
    "            base_image = doc.extract_image(xref)\n",
    "            image_bytes = base_image[\"image\"]\n",
    "            image_ext = base_image[\"ext\"]\n",
    "            if not os.path.exists(\"extracted_images\"):\n",
    "                os.mkdir(\"extracted_images\")\n",
    "            with open(f\"extracted_images/page{i + 1}_{name}.{image_ext}\", \"wb\") as f:\n",
    "                f.write(image_bytes)"
   ],
   "id": "63048f6028661b22",
   "outputs": [],
   "execution_count": 121
  },
  {
   "metadata": {
    "ExecuteTime": {
     "end_time": "2025-09-22T11:05:45.771716Z",
     "start_time": "2025-09-22T11:05:45.765045Z"
    }
   },
   "cell_type": "code",
   "source": [
    "def extract_cells():\n",
    "    for image_path in os.listdir(\"extracted_images\"):\n",
    "        image = cv2.imread(os.path.join(\"extracted_images\", image_path))\n",
    "        gray = cv2.cvtColor(image, cv2.COLOR_BGR2GRAY)\n",
    "        gray_inv = cv2.bitwise_not(gray)\n",
    "        kernel = cv2.getStructuringElement(cv2.MORPH_RECT, (1, 50))\n",
    "        vertical_lines = cv2.morphologyEx(gray_inv, cv2.MORPH_OPEN, kernel, iterations=2)\n",
    "\n",
    "        _, thresh = cv2.threshold(vertical_lines, 95, 255, cv2.THRESH_BINARY)\n",
    "\n",
    "\n",
    "        x_coords, = np.where(thresh[0] == 255)\n",
    "        x_coords = np.array(\n",
    "            [x_coords[i] for i in range(len(x_coords) - 1) if x_coords[i] + 1 != x_coords[i + 1]] + [x_coords[-1]])\n",
    "\n",
    "        cells = []\n",
    "        for j in range(len(x_coords) - 1):\n",
    "            x1, x2 = x_coords[j], x_coords[j + 1]\n",
    "            cell = image[:, x1:x2]  # crop full height between two lines\n",
    "            cells.append(cell)\n",
    "            if not os.path.exists(\"crop_cell\"):\n",
    "                os.mkdir(\"crop_cell\")\n",
    "            cv2.imwrite(f\"crop_cell/page{image_path.split('page')[-1].split('_')[0]}_cell_{image_path.split('page')[-1].split('Image')[1].split('.')[0]}_{j}.png\", cell)"
   ],
   "id": "fead4c891fc43be4",
   "outputs": [],
   "execution_count": 122
  },
  {
   "metadata": {
    "ExecuteTime": {
     "end_time": "2025-09-22T11:05:51.151136Z",
     "start_time": "2025-09-22T11:05:47.344254Z"
    }
   },
   "cell_type": "code",
   "source": [
    "pdf_file = '../plannings_mensuels/planning.pdf'\n",
    "locale.setlocale(locale.LC_TIME, \"fr_FR.UTF-8\")\n",
    "\n",
    "extract_images(pdf_file)\n",
    "extract_cells()\n",
    "\n",
    "planning = {}\n",
    "color_codes = {\n",
    "    'ARO': [('7:30-19:30', np.array([180, 120, 10])), ('8:30-20:30', np.array([130, 130, 250]))],\n",
    "    'LAV': [('7:30-19:30', np.array([180, 120, 10])), ('8:30-20:30', np.array([130, 130, 250]))],\n",
    "    'NUI': [('9:00-12:00', np.array([120, 120, 70])), ('13:00-16:30', np.array([140, 255, 50])),\n",
    "            ('8:30-12:00', np.array([0, 130, 250])), ('20:00-8:00', np.array([120, 20, 200])),\n",
    "            ('20:30-7:30', np.array([180, 120, 130]))],\n",
    "    'ORA': [('7:30-19:30', np.array([180, 120, 10])), ('8:30-20:30', np.array([130, 130, 250]))],\n",
    "    'ROS': [('7:30-19:30', np.array([180, 120, 10])), ('8:30-20:30', np.array([130, 130, 250])),\n",
    "            ('7:30-14:30', np.array([140, 255, 255])), ('7:30-14:30', np.array([0, 130, 250]))],\n",
    "    'TUL': [('7:30-19:30', np.array([180, 120, 10])), ('8:30-20:30', np.array([130, 130, 250]))]\n",
    "}\n",
    "\n",
    "tables = camelot.read_pdf(pdf_file, pages='all', line_scale=40)\n",
    "title = tables[0].df[0][0]\n",
    "\n",
    "dates = title.split('\\n')[-2]\n",
    "upper_date = dates.split(' ')[-1]\n",
    "lower_date = dates.split(' ')[1]\n",
    "processed_date_day = int(lower_date.split('/')[0])\n",
    "day_number = 0\n",
    "\n",
    "while processed_date_day <= int(upper_date.split('/')[0]):\n",
    "    date = datetime(int(dates.split('/')[-1]), int(dates.split('/')[1]), processed_date_day)\n",
    "    day_name = date.strftime(\"%A\")\n",
    "    with open(\"planning.txt\", \"a\") as f:\n",
    "        f.write(f\"\\n{day_name} {processed_date_day}/{dates.split('/')[1]}/{dates.split('/')[-1]}\\n\")\n",
    "        for page_number, table in enumerate(tables):\n",
    "            title = table.df[0][0]\n",
    "            service = title.split('\\n')[-1].split(' ')[0]\n",
    "            if service in color_codes.keys():\n",
    "                f.write(f\"\\n{title.split('\\n')[-1]}\\n\")\n",
    "                name_list = np.array(table.df[0][2::])\n",
    "                name_list = name_list[name_list != '']\n",
    "                for color_code in color_codes[service]:\n",
    "                    for i, name in enumerate(name_list):\n",
    "                        if is_right_color(f\"crop_cell/page{page_number+1}_cell_{i+2}_{day_number}.png\", color_code[1]):\n",
    "                            f.write(f\"{color_code[0]} - {name.split('\\n')[0]}\\n\")\n",
    "\n",
    "    processed_date_day += 1\n",
    "    day_number += 1"
   ],
   "id": "89ba3953dc4a8cce",
   "outputs": [],
   "execution_count": 123
  },
  {
   "metadata": {},
   "cell_type": "code",
   "source": "planning",
   "id": "644226927d0dc037",
   "outputs": [],
   "execution_count": null
  },
  {
   "metadata": {},
   "cell_type": "code",
   "outputs": [],
   "execution_count": null,
   "source": [
    "title = tables[8].df[0][0]\n",
    "title.split('\\n')[-1].split(' ')[0]"
   ],
   "id": "514ce77ca1c8c61f"
  },
  {
   "metadata": {
    "ExecuteTime": {
     "end_time": "2025-09-22T10:21:48.022821Z",
     "start_time": "2025-09-22T10:21:48.019152Z"
    }
   },
   "cell_type": "code",
   "source": [
    "name_list = np.array(tables[0].df[0][2::])\n",
    "name_list = name_list[name_list != '']\n",
    "name_list[2].split('\\n')[0]"
   ],
   "id": "ac4458c8ee2e421d",
   "outputs": [
    {
     "data": {
      "text/plain": [
       "'MBAYA Patricia'"
      ]
     },
     "execution_count": 29,
     "metadata": {},
     "output_type": "execute_result"
    }
   ],
   "execution_count": 29
  },
  {
   "metadata": {
    "ExecuteTime": {
     "end_time": "2025-09-22T12:16:38.479068Z",
     "start_time": "2025-09-22T12:16:34.623307Z"
    }
   },
   "cell_type": "code",
   "source": [
    "pdf_file = '../plannings_mensuels/planning.pdf'\n",
    "locale.setlocale(locale.LC_TIME, \"fr_FR.UTF-8\")\n",
    "\n",
    "extract_images(pdf_file)\n",
    "extract_cells()\n",
    "\n",
    "planning = {}\n",
    "color_codes = {\n",
    "    'ARO': [('7:30-19:30', np.array([180, 120, 10])), ('8:30-20:30', np.array([130, 130, 250]))],\n",
    "    'LAV': [('7:30-19:30', np.array([180, 120, 10])), ('8:30-20:30', np.array([130, 130, 250]))],\n",
    "    'ORA': [('7:30-19:30', np.array([180, 120, 10])), ('8:30-20:30', np.array([130, 130, 250]))],\n",
    "    'ROS': [('7:30-19:30', np.array([180, 120, 10])), ('8:30-20:30', np.array([130, 130, 250])),\n",
    "            ('7:30-14:30', np.array([140, 255, 255])), ('7:30-14:30', np.array([0, 130, 250]))],\n",
    "    'TUL': [('7:30-19:30', np.array([180, 120, 10])), ('8:30-20:30', np.array([130, 130, 250]))],\n",
    "    'NUI': [('9:00-12:00', np.array([120, 120, 70])), ('13:00-16:30', np.array([140, 255, 50])),\n",
    "            ('8:30-12:00', np.array([0, 130, 250])), ('20:00-8:00', np.array([120, 20, 200])),\n",
    "            ('20:30-7:30', np.array([180, 120, 130]))]\n",
    "}\n",
    "\n",
    "tables = camelot.read_pdf(pdf_file, pages='all', line_scale=40)\n",
    "title = tables[0].df[0][0]\n",
    "\n",
    "dates = title.split('\\n')[-2]\n",
    "upper_date = dates.split(' ')[-1]\n",
    "lower_date = dates.split(' ')[1]\n",
    "processed_date_day = int(lower_date.split('/')[0])\n",
    "day_number = 0\n",
    "\n",
    "while processed_date_day <= int(upper_date.split('/')[0]):\n",
    "    date = datetime(int(dates.split('/')[-1]), int(dates.split('/')[1]), processed_date_day)\n",
    "    day_name = date.strftime(\"%A\")\n",
    "    planning[f\"{day_name} {processed_date_day}/{dates.split('/')[1]}/{dates.split('/')[-1]}\"] = {}\n",
    "    for page_number, table in enumerate(tables):\n",
    "        title = table.df[0][0]\n",
    "        service = title.split('\\n')[-1].split(' ')[0]\n",
    "        if service in color_codes.keys():\n",
    "            planning[f\"{day_name} {processed_date_day}/{dates.split('/')[1]}/{dates.split('/')[-1]}\"][title.split('\\n')[-1]] = []\n",
    "            name_list = np.array(table.df[0][2::])\n",
    "            name_list = name_list[name_list != '']\n",
    "            for color_code in color_codes[service]:\n",
    "                for i, name in enumerate(name_list):\n",
    "                    if is_right_color(f\"crop_cell/page{page_number+1}_cell_{i+2}_{day_number}.png\", color_code[1]):\n",
    "                        planning[f\"{day_name} {processed_date_day}/{dates.split('/')[1]}/{dates.split('/')[-1]}\"][title.split('\\n')[-1]].append(f\"{color_code[0]} - {name.split('\\n')[0]}\")\n",
    "\n",
    "    processed_date_day += 1\n",
    "    day_number += 1"
   ],
   "id": "42321de26c616c3d",
   "outputs": [],
   "execution_count": 132
  },
  {
   "metadata": {
    "ExecuteTime": {
     "end_time": "2025-09-22T12:17:36.522675Z",
     "start_time": "2025-09-22T12:17:36.438540Z"
    }
   },
   "cell_type": "code",
   "source": [
    "doc = SimpleDocTemplate(\"../planning_table.pdf\", pagesize=A4)\n",
    "styles = getSampleStyleSheet()\n",
    "story = []\n",
    "\n",
    "for idx, (day, units) in enumerate(planning.items()):\n",
    "    story.append(Paragraph(f\"<b>{day}</b>\", styles[\"Title\"]))\n",
    "    story.append(Spacer(1, 12))\n",
    "\n",
    "    table_data = [[\"Unité\", \"Horaires & Personnes\", \"Stagiaire\"]]\n",
    "\n",
    "    for unit, shifts in units.items():\n",
    "        shift_text = \"<br/>\".join(shifts)\n",
    "        table_data.append([\n",
    "            unit,\n",
    "            Paragraph(shift_text, styles[\"Normal\"]),\n",
    "            \"\"\n",
    "        ])\n",
    "\n",
    "    table = Table(table_data, colWidths=[160, 230, 120])\n",
    "    table.setStyle(TableStyle([\n",
    "        (\"BACKGROUND\", (0,0), (-1,0), colors.lightgrey),\n",
    "        (\"TEXTCOLOR\", (0,0), (-1,0), colors.black),\n",
    "        (\"ALIGN\", (0,0), (-1,-1), \"LEFT\"),\n",
    "        (\"VALIGN\", (0,0), (-1,-1), \"TOP\"),\n",
    "        (\"FONTNAME\", (0,0), (-1,0), \"Helvetica-Bold\"),\n",
    "        (\"GRID\", (0,0), (-1,-1), 0.5, colors.black),\n",
    "        (\"ROWBACKGROUNDS\", (0,1), (-1,-1), [colors.whitesmoke, colors.lightyellow]),\n",
    "    ]))\n",
    "\n",
    "    story.append(table)\n",
    "\n",
    "    if idx < len(planning) - 1:\n",
    "        story.append(PageBreak())\n",
    "\n",
    "doc.build(story)\n"
   ],
   "id": "a9b919e103faa8dd",
   "outputs": [],
   "execution_count": 137
  }
 ],
 "metadata": {
  "kernelspec": {
   "display_name": "Python 3",
   "language": "python",
   "name": "python3"
  },
  "language_info": {
   "codemirror_mode": {
    "name": "ipython",
    "version": 2
   },
   "file_extension": ".py",
   "mimetype": "text/x-python",
   "name": "python",
   "nbconvert_exporter": "python",
   "pygments_lexer": "ipython2",
   "version": "2.7.6"
  }
 },
 "nbformat": 4,
 "nbformat_minor": 5
}
